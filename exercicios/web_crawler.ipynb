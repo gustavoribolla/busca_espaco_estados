{
 "cells": [
  {
   "cell_type": "markdown",
   "metadata": {},
   "source": [
    "O aplicativo wget é um web crawler disponível em sistemas operacionais do tipo linux. Com este aplicativo é possível informar uma url que será a base do crawler. A partir da url informada, o wget copia o conteúdo da página, identifica os links que estão nesta página, acessa o conteúdo destes links e copia o contéudo destas páginas de forma recursiva até encontrar um critério de parada. O critério de parada no caso do wget é a profundidade informada ao executar o comando."
   ]
  },
  {
   "cell_type": "markdown",
   "metadata": {},
   "source": [
    "Um código possível para o wget é apresentado abaixo:"
   ]
  },
  {
   "cell_type": "code",
   "execution_count": null,
   "metadata": {},
   "outputs": [],
   "source": [
    "def wget(url, profundidade):\n",
    "    if profundidade > 0:\n",
    "        armazena_conteudo(url)\n",
    "        for nova_pagina in identifica_links(url):\n",
    "            wget(nova_pagina, profundidade-1)"
   ]
  },
  {
   "cell_type": "markdown",
   "metadata": {},
   "source": [
    "armazena_conteudo(url) é uma função que copia o contéudo da página para a máquina local, onde o wget está sendo executado.\n",
    "identifica_links(url) é uma função que identifica todos os links na página - todas as tags href."
   ]
  },
  {
   "cell_type": "markdown",
   "metadata": {},
   "source": [
    "Digamos que você precisa fazer o crawler de diversos conteúdos a partir de algumas páginas. Mas antes de fazer isto, você terá que fazer uma estimativa do tamanho de espaço necessário para armazenar todo o conteúdo."
   ]
  },
  {
   "cell_type": "markdown",
   "metadata": {},
   "source": [
    "esportes: neste caso, você irá partir de uma única url e você sabe que todos os documentos que você irá baixar que estão relacionados com esta url tem 10 links no seu conteúdo. Você também sabe que a profundidade configurada no wget para esportes será de 5. E que cada documento documento tem o tamanho de 500 KBytes. Depois de executado o wget para esportes, quantos documentos (arquivos diferentes) serão armazenados no seu computador? Qual é o espaço que eles irão ocupar em GB?"
   ]
  },
  {
   "cell_type": "markdown",
   "metadata": {},
   "source": [
    "cotidiano: neste caso, você irá partir de uma única url e você sabe que todos os documentos que você irá baixar que estão relacionados com esta url tem 3 links no seu conteúdo. Você também sabe que a profundidade configurada no wget para o tema cotidiano será de 8. E que cada documento documento tem o tamanho de 800 KBytes. Depois de executado o wget para cotidiano, quantos documentos (arquivos diferentes) serão armazenados no seu computador? Qual é o espaço que eles irão ocupar em GB?"
   ]
  },
  {
   "cell_type": "markdown",
   "metadata": {},
   "source": [
    "Qual é a quantidade total de arquivos armazenados no seu computador? Qual é o espaço total que eles irão ocupar em MB? Justifique a sua resposta."
   ]
  }
 ],
 "metadata": {
  "language_info": {
   "name": "python"
  }
 },
 "nbformat": 4,
 "nbformat_minor": 2
}
