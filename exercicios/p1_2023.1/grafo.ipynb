{
 "cells": [
  {
   "cell_type": "markdown",
   "metadata": {},
   "source": [
    "Considere o grafo abaixo onde o número sobre as arestas é o custo de cada ação e o número em cada nodo é a heurística considerada até o estado objetivo. Note que cada arco é bidirecional. Considere o estado A como inicial e o estado G como o estado objetivo. Em todos os algoritmos utilizados existe um único tipo de poda da árvore de busca que é: não pode-se abrir nenhum sucessor igual ao pai do nodo."
   ]
  },
  {
   "cell_type": "markdown",
   "metadata": {},
   "source": [
    "Foto em photos/grafo.png"
   ]
  },
  {
   "cell_type": "markdown",
   "metadata": {},
   "source": [
    "1- Qual é o caminho para a solução do problema que o algoritmo A* encontra."
   ]
  },
  {
   "cell_type": "markdown",
   "metadata": {},
   "source": [
    "A - B - C - H - G"
   ]
  },
  {
   "cell_type": "markdown",
   "metadata": {},
   "source": [
    "2- A heurística utilizada no problema é admissível? Explique."
   ]
  },
  {
   "cell_type": "markdown",
   "metadata": {},
   "source": [
    "Sim, pois a heurística é menor ou igual ao custo"
   ]
  },
  {
   "cell_type": "markdown",
   "metadata": {},
   "source": [
    "3- Qual é o caminho para a solução do problema que o algoritmo Ganancioso encontra."
   ]
  },
  {
   "cell_type": "markdown",
   "metadata": {},
   "source": [
    "A - B - G"
   ]
  },
  {
   "cell_type": "markdown",
   "metadata": {},
   "source": [
    "4- Qual é o caminho para a solução do problema que o algoritmo de busca em largura encontra."
   ]
  },
  {
   "cell_type": "markdown",
   "metadata": {},
   "source": [
    "A - B - G"
   ]
  },
  {
   "cell_type": "markdown",
   "metadata": {},
   "source": [
    "5- A solução encontrada pelo algoritmo de busca em largura é ótima? Justifique a sua resposta."
   ]
  },
  {
   "cell_type": "markdown",
   "metadata": {},
   "source": [
    "Não, pois o busca em largura não leva em conta o custo"
   ]
  }
 ],
 "metadata": {
  "language_info": {
   "name": "python"
  }
 },
 "nbformat": 4,
 "nbformat_minor": 2
}
