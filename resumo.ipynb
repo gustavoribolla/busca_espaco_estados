{
 "cells": [
  {
   "cell_type": "markdown",
   "metadata": {},
   "source": [
    "# Medição de Desempenho\n",
    "\n",
    "Completo -> acha sempre uma solução\n",
    "\n",
    "Ótimo -> acha sempre a solução de menor custo"
   ]
  },
  {
   "cell_type": "markdown",
   "metadata": {},
   "source": [
    "# Busca Cega"
   ]
  },
  {
   "cell_type": "markdown",
   "metadata": {},
   "source": [
    "## Busca em Largura\n",
    "\n",
    "- Nó raiz -> sucessores -> sucessores dos sucessores\n",
    "\n",
    "- Fila -> first in first out\n",
    "\n",
    "- É completo e ótimo se tudo tiver o mesmo custo\n",
    "\n",
    "- Encontra a resposta/meta na menor profundidade possível\n",
    "\n",
    "- b(número de nós) - d(profundidade) -> maior tempo de processamento O(b^d)"
   ]
  },
  {
   "cell_type": "markdown",
   "metadata": {},
   "source": [
    "## Busca de Custo Uniforme\n",
    "\n",
    "- Custo não uniforme\n",
    "\n",
    "- Expande o nó de menor custo primeiro -> sua fila ordenada de custos\n",
    "\n",
    "- É ótimo e é completo somente se os custos forem diferentes"
   ]
  },
  {
   "cell_type": "markdown",
   "metadata": {},
   "source": [
    "## Busca em Profundidade\n",
    "\n",
    "- Sempre expande os nós mais profundos\n",
    "\n",
    "- Explora todods os sucessores antes de voltar para o topo\n",
    "\n",
    "- Pilha -> last in first out\n",
    "\n",
    "- Não e ótimo e é completo se for árvore (m -> inf)\n",
    "\n",
    "- m - númer máximo de níveis -> O B^m (espaço -> b x d)"
   ]
  },
  {
   "cell_type": "markdown",
   "metadata": {},
   "source": [
    "## Busca em Profundidade Iterativa\n",
    "\n",
    "- Combina benefícios de largura e profundiade\n",
    "\n",
    "- Ela aumenta gradativamente a profundidade (meio que poda)\n",
    "\n",
    "- Só é completo se m for inifito ou a resposta estiver em uma profundidade pequena \n",
    "\n",
    "- Espaço -> b x m \n",
    "\n",
    "- Tempo -> b^m"
   ]
  },
  {
   "cell_type": "markdown",
   "metadata": {},
   "source": [
    "# Busca Inteligente"
   ]
  },
  {
   "cell_type": "markdown",
   "metadata": {},
   "source": [
    "Heurística: estimativa de custo até a meta"
   ]
  },
  {
   "cell_type": "markdown",
   "metadata": {},
   "source": [
    "## Busca Gananciosa\n",
    "\n",
    "- Retira de abertos sempre o nodo com menor estimativa de custo \n",
    "\n",
    "- Geralmente utiliza uma heurística de distância até o nodo meta\n",
    "\n",
    "- Não garante uma solução ótima porque pode ficar presa em lugares se a heurística não for boa"
   ]
  },
  {
   "cell_type": "markdown",
   "metadata": {},
   "source": [
    "## A*\n",
    "\n",
    "- Usa uma combinação do custo do caminho já percorrido (custo g) e uma estimativa do custo restante até o objetivo (heurística h) \n",
    "\n",
    "- Garante encontrar a solução ótima se a heurística for admissível"
   ]
  },
  {
   "cell_type": "markdown",
   "metadata": {},
   "source": [
    "## Poda\n",
    "\n",
    "- General -> um nodo não gera sucessores que já existem na árvore de busca\n",
    "\n",
    "- Father-so -> nodo filho não gera sucessor igual ao nodo pai "
   ]
  }
 ],
 "metadata": {
  "language_info": {
   "name": "python"
  }
 },
 "nbformat": 4,
 "nbformat_minor": 2
}
